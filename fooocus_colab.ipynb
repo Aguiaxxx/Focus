pip install pygit2=1.12.2
ecd /content
git clone https://github.com/lLlyasviel/Fooocus.git
scd /content/Fooocus/models/upscale models/ Inget -0 fooocus_upscaler_s409985eS.bin https://huggingface.co/l11yasviel/misc/resc
acd / content/Fooocus
Ipython entry_with_update.py -share
