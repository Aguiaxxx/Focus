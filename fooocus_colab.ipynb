Ipip install pygit2=1.12.2
acd /content
Igit clone https://github.com/11lyasviel/Fooocus.git
Acd /content/Fooocus/models/upscale models/ Iwget -0 fooocus_upscaler_s409985e5.bin https://huggingface.co/l11yasviel/misc/resc
Acd /content/Fooocus
Ipython entry_with_update.py -share
